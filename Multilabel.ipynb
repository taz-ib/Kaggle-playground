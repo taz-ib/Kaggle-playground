{
 "cells": [
  {
   "cell_type": "code",
   "execution_count": 1,
   "id": "5f9c06c5-8fc9-433f-8422-8e4574f68e46",
   "metadata": {},
   "outputs": [],
   "source": [
    "import torch "
   ]
  },
  {
   "cell_type": "code",
   "execution_count": 2,
   "id": "c28ccfe6-b7ed-453f-a6a0-2ffa16a86746",
   "metadata": {},
   "outputs": [],
   "source": [
    "from torch import nn"
   ]
  },
  {
   "cell_type": "code",
   "execution_count": 3,
   "id": "d4a62897-6bab-4ea9-9a8d-180ded35a508",
   "metadata": {},
   "outputs": [],
   "source": [
    "import numpy as np"
   ]
  },
  {
   "cell_type": "code",
   "execution_count": 4,
   "id": "dff2eea9-cf82-41dd-a61a-ae168179f8e8",
   "metadata": {},
   "outputs": [],
   "source": [
    "train_data = np.genfromtxt(\"train_playground.csv\",\n",
    "                           delimiter=\",\")"
   ]
  },
  {
   "cell_type": "code",
   "execution_count": 5,
   "id": "f21fe7b1-60e2-46a9-9731-878fae5dd3b6",
   "metadata": {},
   "outputs": [],
   "source": [
    "train = torch.from_numpy(train_data[:,]).type(torch.float)"
   ]
  },
  {
   "cell_type": "code",
   "execution_count": 6,
   "id": "1cbf6287-aad0-4d75-9197-2eb74f812d3e",
   "metadata": {},
   "outputs": [
    {
     "data": {
      "text/plain": [
       "torch.Size([14839, 38])"
      ]
     },
     "execution_count": 6,
     "metadata": {},
     "output_type": "execute_result"
    }
   ],
   "source": [
    "train.shape"
   ]
  },
  {
   "cell_type": "code",
   "execution_count": 7,
   "id": "45b249cd-625a-4da9-89a6-159d2072480e",
   "metadata": {},
   "outputs": [],
   "source": [
    "device = \"cpu\""
   ]
  },
  {
   "cell_type": "code",
   "execution_count": 8,
   "id": "2c12c20f-07ab-4d01-992b-cbc9627636ab",
   "metadata": {},
   "outputs": [],
   "source": [
    "X, y = train[1:,1:32].to(device), train[1:,32:].to(device)"
   ]
  },
  {
   "cell_type": "code",
   "execution_count": 9,
   "id": "ec75404a-5a74-497e-a21c-beabcc6d4243",
   "metadata": {},
   "outputs": [
    {
     "data": {
      "text/plain": [
       "(torch.Size([14838, 31]), torch.Size([14838, 6]))"
      ]
     },
     "execution_count": 9,
     "metadata": {},
     "output_type": "execute_result"
    }
   ],
   "source": [
    "X.size(), y.size()"
   ]
  },
  {
   "cell_type": "code",
   "execution_count": 10,
   "id": "a7d95cb7-c02e-4593-8276-cfbdabe5e4f5",
   "metadata": {},
   "outputs": [],
   "source": [
    "from sklearn.model_selection import train_test_split\n",
    "\n",
    "X_train, X_test, y_train, y_test = train_test_split(X,y,test_size=0.2)"
   ]
  },
  {
   "cell_type": "code",
   "execution_count": 11,
   "id": "a282a80e-8a97-4624-8182-6da4d4fe458c",
   "metadata": {},
   "outputs": [],
   "source": [
    "class NNmodel(nn.Module):\n",
    "    def __init__(self, infeat, outfeat, hiddenfeat):\n",
    "        super().__init__()\n",
    "        \n",
    "        self.layer_stack= nn.Sequential(\n",
    "            nn.Linear(in_features=infeat, out_features=hiddenfeat), \n",
    "            nn.ReLU(),\n",
    "            nn.Linear(in_features=hiddenfeat, out_features=hiddenfeat),\n",
    "            nn.ReLU(),\n",
    "            nn.Linear(in_features=hiddenfeat, out_features=outfeat)\n",
    "        ) \n",
    "        \n",
    "    def forward(self, x):\n",
    "        return self.layer_stack(x)\n",
    "\n",
    "def AccuracyFn(y_true, y_pred):\n",
    "    correct = torch.eq(y_true, y_pred).sum().item()\n",
    "    return(correct*100/len(y_pred))\n",
    "\n",
    "modelNN1 = NNmodel(infeat=31,outfeat=1,hiddenfeat=16).to(device)\n",
    "\n",
    "lossFn = nn.BCEWithLogitsLoss()\n",
    "\n",
    "optimizer1 = torch.optim.ASGD(params = modelNN1.parameters(),\n",
    "                            lr = 0.1)\n"
   ]
  },
  {
   "cell_type": "code",
   "execution_count": 12,
   "id": "4eb34d51-624a-4690-8a0b-484907137f8e",
   "metadata": {},
   "outputs": [
    {
     "data": {
      "text/plain": [
       "tensor([[1.7791e+03, 2.2047e+01, 1.4965e+01,  ..., 1.0499e+02, 0.0000e+00,\n",
       "         0.0000e+00],\n",
       "        [2.0187e+02, 4.4319e+00, 2.8543e+00,  ..., 3.7167e+01, 0.0000e+00,\n",
       "         0.0000e+00],\n",
       "        [2.3517e+02, 8.3081e+00, 3.4823e+00,  ..., 3.2771e+01, 0.0000e+00,\n",
       "         0.0000e+00],\n",
       "        ...,\n",
       "        [2.0728e+03, 2.4911e+01, 1.5675e+01,  ..., 1.1259e+02, 0.0000e+00,\n",
       "         0.0000e+00],\n",
       "        [1.4622e+02, 5.8657e+00, 3.1768e+00,  ..., 4.3000e+01, 2.0000e+00,\n",
       "         2.0000e+00],\n",
       "        [1.8631e+03, 2.5822e+01, 1.4113e+01,  ..., 1.1565e+02, 1.0000e+00,\n",
       "         1.0000e+00]])"
      ]
     },
     "execution_count": 12,
     "metadata": {},
     "output_type": "execute_result"
    }
   ],
   "source": [
    "X_test"
   ]
  },
  {
   "cell_type": "code",
   "execution_count": 13,
   "id": "74dfd55b-d026-480a-859c-d1a206f4e50c",
   "metadata": {},
   "outputs": [
    {
     "name": "stdout",
     "output_type": "stream",
     "text": [
      "Epoch: 0 | Loss: 4.36720, Accuracy: 33.13% | Test Loss: 2433.96167, Test Accuracy: 66.07%\n",
      "Epoch: 100 | Loss: 0.63786, Accuracy: 66.55% | Test Loss: 24.88688, Test Accuracy: 66.04%\n",
      "Epoch: 200 | Loss: 0.63450, Accuracy: 66.93% | Test Loss: 24.80235, Test Accuracy: 66.04%\n",
      "Epoch: 300 | Loss: 0.64126, Accuracy: 66.95% | Test Loss: 24.72668, Test Accuracy: 66.04%\n",
      "Epoch: 400 | Loss: 0.63534, Accuracy: 66.94% | Test Loss: 24.65088, Test Accuracy: 66.00%\n",
      "Epoch: 500 | Loss: 0.63777, Accuracy: 66.94% | Test Loss: 24.57513, Test Accuracy: 66.04%\n",
      "Epoch: 600 | Loss: 0.63474, Accuracy: 66.95% | Test Loss: 24.50149, Test Accuracy: 66.04%\n",
      "Epoch: 700 | Loss: 0.63402, Accuracy: 66.95% | Test Loss: 24.42635, Test Accuracy: 66.04%\n",
      "Epoch: 800 | Loss: 0.63404, Accuracy: 66.94% | Test Loss: 24.35320, Test Accuracy: 66.04%\n",
      "Epoch: 900 | Loss: 0.63403, Accuracy: 66.95% | Test Loss: 24.27961, Test Accuracy: 66.04%\n"
     ]
    }
   ],
   "source": [
    "epochs = 1000\n",
    "\n",
    "for epoch in range(epochs):\n",
    "    # 1. Forward pass\n",
    "    y_logits1 = modelNN1(X_train).squeeze()\n",
    "    y_pred1 = torch.round(torch.sigmoid(y_logits1)) # logits -> prediction probabilities -> prediction labels\n",
    "    \n",
    "    # 2. Calculate loss and accuracy\n",
    "    loss = lossFn(y_logits1, y_train[:,0]) # BCEWithLogitsLoss calculates loss using logits\n",
    "    acc = AccuracyFn(y_true=y_train[:,0], \n",
    "                      y_pred=y_pred1)\n",
    "    \n",
    "    # 3. Optimizer zero grad\n",
    "    optimizer1.zero_grad()\n",
    "\n",
    "    # 4. Loss backward\n",
    "    loss.backward()\n",
    "\n",
    "    # 5. Optimizer step\n",
    "    optimizer1.step()\n",
    "\n",
    "    ### Testing\n",
    "    modelNN1.eval()\n",
    "    with torch.inference_mode():\n",
    "      # 1. Forward pass\n",
    "      test_logits1 = modelNN1(X_test).squeeze()\n",
    "      test_pred1 = torch.round(torch.sigmoid(test_logits1)) # logits -> prediction probabilities -> prediction labels\n",
    "      # 2. Calcuate loss and accuracy\n",
    "      test_loss1 = lossFn(test_logits1, y_test[:,0])\n",
    "      test_acc1 = AccuracyFn(y_true=y_test[:,0],\n",
    "                             y_pred=test_pred1)\n",
    "\n",
    "    # Print out what's happening\n",
    "    if epoch % 100 == 0:\n",
    "        print(f\"Epoch: {epoch} | Loss: {loss:.5f}, Accuracy: {acc:.2f}% | Test Loss: {test_loss1:.5f}, Test Accuracy: {test_acc1:.2f}%\")"
   ]
  },
  {
   "cell_type": "code",
   "execution_count": 14,
   "id": "d980a6f7-4790-4795-823c-7069c589e106",
   "metadata": {},
   "outputs": [],
   "source": [
    "modelNN2 = NNmodel(infeat=31,outfeat=1,hiddenfeat=16).to(device)\n",
    "\n",
    "lossFn = nn.BCEWithLogitsLoss()\n",
    "\n",
    "optimizer2 = torch.optim.ASGD(params = modelNN2.parameters(),\n",
    "                            lr = 0.1)"
   ]
  },
  {
   "cell_type": "code",
   "execution_count": 15,
   "id": "f940408b-0a10-40f9-928c-8bcf2ba46d5b",
   "metadata": {},
   "outputs": [
    {
     "name": "stdout",
     "output_type": "stream",
     "text": [
      "Epoch: 0 | Loss: 2.48266, Accuracy: 79.81% | Test Loss: 137.90527, Test Accuracy: 19.74%\n",
      "Epoch: 100 | Loss: 0.50330, Accuracy: 79.79% | Test Loss: 44.81654, Test Accuracy: 80.15%\n",
      "Epoch: 200 | Loss: 0.50285, Accuracy: 79.80% | Test Loss: 44.68307, Test Accuracy: 80.19%\n",
      "Epoch: 300 | Loss: 0.50274, Accuracy: 79.79% | Test Loss: 44.55096, Test Accuracy: 80.22%\n",
      "Epoch: 400 | Loss: 0.50265, Accuracy: 79.80% | Test Loss: 44.41952, Test Accuracy: 80.22%\n",
      "Epoch: 500 | Loss: 0.50255, Accuracy: 79.81% | Test Loss: 44.28869, Test Accuracy: 80.22%\n",
      "Epoch: 600 | Loss: 0.50241, Accuracy: 79.81% | Test Loss: 44.15812, Test Accuracy: 80.22%\n",
      "Epoch: 700 | Loss: 0.50226, Accuracy: 79.81% | Test Loss: 44.02806, Test Accuracy: 80.22%\n",
      "Epoch: 800 | Loss: 0.50222, Accuracy: 79.81% | Test Loss: 43.89835, Test Accuracy: 80.22%\n",
      "Epoch: 900 | Loss: 0.50219, Accuracy: 79.81% | Test Loss: 43.76886, Test Accuracy: 80.22%\n"
     ]
    }
   ],
   "source": [
    "epochs = 1000\n",
    "\n",
    "for epoch in range(epochs):\n",
    "    # 1. Forward pass\n",
    "    y_logits2 = modelNN2(X_train).squeeze()\n",
    "    y_pred2 = torch.round(torch.sigmoid(y_logits2)) # logits -> prediction probabilities -> prediction labels\n",
    "    \n",
    "    # 2. Calculate loss and accuracy\n",
    "    loss = lossFn(y_logits2, y_train[:,1]) # BCEWithLogitsLoss calculates loss using logits\n",
    "    acc = AccuracyFn(y_true=y_train[:,1], \n",
    "                      y_pred=y_pred2)\n",
    "    \n",
    "    # 3. Optimizer zero grad\n",
    "    optimizer2.zero_grad()\n",
    "\n",
    "    # 4. Loss backward\n",
    "    loss.backward()\n",
    "\n",
    "    # 5. Optimizer step\n",
    "    optimizer2.step()\n",
    "\n",
    "    ### Testing\n",
    "    modelNN2.eval()\n",
    "    with torch.inference_mode():\n",
    "      # 1. Forward pass\n",
    "      test_logits2 = modelNN2(X_test).squeeze()\n",
    "      test_pred2 = torch.round(torch.sigmoid(test_logits2)) # logits -> prediction probabilities -> prediction labels\n",
    "      # 2. Calcuate loss and accuracy\n",
    "      test_loss = lossFn(test_logits2, y_test[:,1])\n",
    "      test_acc = AccuracyFn(y_true=y_test[:,1],\n",
    "                             y_pred=test_pred2)\n",
    "\n",
    "    # Print out what's happening\n",
    "    if epoch % 100 == 0:\n",
    "        print(f\"Epoch: {epoch} | Loss: {loss:.5f}, Accuracy: {acc:.2f}% | Test Loss: {test_loss:.5f}, Test Accuracy: {test_acc:.2f}%\")"
   ]
  },
  {
   "cell_type": "code",
   "execution_count": 16,
   "id": "5743e31b-5e81-4c1f-815a-c391438756f9",
   "metadata": {},
   "outputs": [],
   "source": [
    "import seaborn as sn"
   ]
  },
  {
   "cell_type": "code",
   "execution_count": 17,
   "id": "a27160fc-cccc-4f7a-9453-049b5120bc61",
   "metadata": {},
   "outputs": [
    {
     "data": {
      "text/plain": [
       "<Axes: >"
      ]
     },
     "execution_count": 17,
     "metadata": {},
     "output_type": "execute_result"
    },
    {
     "data": {
      "image/png": "[encoded data removed]",
      "text/plain": [
       "<Figure size 640x480 with 2 Axes>"
      ]
     },
     "metadata": {},
     "output_type": "display_data"
    }
   ],
   "source": [
    "sn.heatmap(y.to(\"cpu\"))"
   ]
  },
  {
   "cell_type": "code",
   "execution_count": 19,
   "id": "0ce5a4c8-01aa-4b67-96d3-f512b4e79214",
   "metadata": {},
   "outputs": [],
   "source": [
    "y_prob = torch.sigmoid(y_logits1)"
   ]
  },
  {
   "cell_type": "code",
   "execution_count": 20,
   "id": "892c365d-d3e7-4175-8814-69f9c5cf5c5f",
   "metadata": {},
   "outputs": [
    {
     "data": {
      "text/plain": [
       "tensor([0.6681, 0.6681, 0.6681,  ..., 0.6681, 0.6681, 0.6681],\n",
       "       grad_fn=<SigmoidBackward0>)"
      ]
     },
     "execution_count": 20,
     "metadata": {},
     "output_type": "execute_result"
    }
   ],
   "source": [
    "y_prob"
   ]
  },
  {
   "cell_type": "code",
   "execution_count": 21,
   "id": "b6c4870f-9818-4ecd-ae3a-e8e15497287f",
   "metadata": {},
   "outputs": [],
   "source": [
    "import matplotlib.pyplot as plt"
   ]
  },
  {
   "cell_type": "code",
   "execution_count": 23,
   "id": "17001705-6ed3-4dec-966c-f52544564005",
   "metadata": {},
   "outputs": [
    {
     "data": {
      "text/plain": [
       "(array([4.0000e+00, 4.0000e+00, 2.0000e+00, 1.1754e+04, 2.3000e+01,\n",
       "        2.0000e+00, 6.0000e+00, 6.0000e+00, 8.0000e+00, 6.1000e+01]),\n",
       " array([0.45502934, 0.50930154, 0.56357378, 0.61784595, 0.67211819,\n",
       "        0.72639036, 0.7806626 , 0.83493477, 0.88920701, 0.94347918,\n",
       "        0.99775141]),\n",
       " <BarContainer object of 10 artists>)"
      ]
     },
     "execution_count": 23,
     "metadata": {},
     "output_type": "execute_result"
    },
    {
     "data": {
      "image/png": "[encoded data removed]",
      "text/plain": [
       "<Figure size 640x480 with 1 Axes>"
      ]
     },
     "metadata": {},
     "output_type": "display_data"
    }
   ],
   "source": [
    "plt.hist(y_prob.detach().numpy())"
   ]
  },
  {
   "cell_type": "code",
   "execution_count": null,
   "id": "9a7b1bc6-8e6b-4589-9cb0-e8c0188ffeba",
   "metadata": {},
   "outputs": [],
   "source": []
  }
 ],
 "metadata": {
  "kernelspec": {
   "display_name": "Python 3 (ipykernel)",
   "language": "python",
   "name": "python3"
  },
  "language_info": {
   "codemirror_mode": {
    "name": "ipython",
    "version": 3
   },
   "file_extension": ".py",
   "mimetype": "text/x-python",
   "name": "python",
   "nbconvert_exporter": "python",
   "pygments_lexer": "ipython3",
   "version": "3.11.2"
  }
 },
 "nbformat": 4,
 "nbformat_minor": 5
}
